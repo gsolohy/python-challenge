{
 "cells": [
  {
   "cell_type": "code",
   "execution_count": 1,
   "metadata": {},
   "outputs": [],
   "source": [
    "#The total number of months included in the dataset\n",
    "#The net total amount of \"Profit/Losses\" over the entire period\n",
    "#The average of the changes in \"Profit/Losses\" over the entire period\n",
    "#The greatest increase in profits (date and amount) over the entire period\n",
    "#The greatest decrease in losses (date and amount) over the entire period"
   ]
  },
  {
   "cell_type": "code",
   "execution_count": 46,
   "metadata": {},
   "outputs": [
    {
     "name": "stdout",
     "output_type": "stream",
     "text": [
      "86\n",
      "38382578\n",
      "-2315.12\n",
      "Feb-2012 1926159\n",
      "Sep-2013 -2196167\n"
     ]
    }
   ],
   "source": [
    "import os\n",
    "import csv\n",
    "\n",
    "pathPyBank = os.path.join(\"PyBank\", \"Resources\",\"budget_data.csv\")\n",
    "\n",
    "month_list = []\n",
    "profit_list = []\n",
    "profit_change = []\n",
    "net_change = 0\n",
    "\n",
    "with open(pathPyBank, newline='') as filePyBank:\n",
    "    PyBank_reader = csv.reader(filePyBank, delimiter=',') # File read\n",
    "    PyBank_header = next(PyBank_reader) # Header Row Skip\n",
    "\n",
    "    for row in PyBank_reader:\n",
    "        month_list.append(row[0]) # Convert to list to extract month for change & month count\n",
    "        profit_list.append(row[1]) # Convert to list to calculate change\n",
    "        net_change += int(row[1]) # Net. Complete.\n",
    "        \n",
    "    for i in range(1, len(profit_list)):\n",
    "        profit_change.append(int(profit_list[i]) - int(profit_list[(i-1)]))\n",
    "        avg_change = round(sum(profit_change)/len(profit_change),2) # Sum change / Num change\n",
    "        max_increase = max(profit_change) # Greatest Increase\n",
    "        max_decrease = min(profit_change) # Greatest Decrease\n",
    "        \n",
    "        max_inc_month = month_list[profit_change.index(max_increase)+1] # Skip First Month\n",
    "        max_dec_month = month_list[profit_change.index(max_decrease)+1] # Match Month Offset\n",
    "\n",
    "#print(len(month_list))\n",
    "#print(net_change)\n",
    "#print(avg_change)\n",
    "#print(max_inc_month, end=' ')\n",
    "#print(max_increase)\n",
    "#print(max_dec_month, end=' ')\n",
    "#print(max_decrease)\n",
    "#Confirmed\n",
    "\n",
    "PyBank_export = 'Financial Analysis.txt' # Export as txt\n",
    "\n",
    "with open(PyBank_export, 'w') as export_text:\n",
    "    export_text.write(\"Financial Analysis\\n\")\n",
    "    export_text.write(\"-\"*30 + \"\\n\")\n",
    "    export_text.write(f\"Total Months: {len(month_list)} \\nTotal: ${net_change}\\n\")\n",
    "    export_text.write(f\"Average Change: ${avg_change}\\n\")\n",
    "    export_text.write(f\"Greatest Increase in Profits: {max_inc_month} (${max_increase})\\n\")\n",
    "    export_text.write(f\"Greatest Decrease in Profits: {max_dec_month} (${max_decrease})\")"
   ]
  },
  {
   "cell_type": "code",
   "execution_count": null,
   "metadata": {},
   "outputs": [],
   "source": []
  },
  {
   "cell_type": "code",
   "execution_count": null,
   "metadata": {},
   "outputs": [],
   "source": []
  },
  {
   "cell_type": "code",
   "execution_count": null,
   "metadata": {},
   "outputs": [],
   "source": []
  }
 ],
 "metadata": {
  "kernelspec": {
   "display_name": "Python 3",
   "language": "python",
   "name": "python3"
  },
  "language_info": {
   "codemirror_mode": {
    "name": "ipython",
    "version": 3
   },
   "file_extension": ".py",
   "mimetype": "text/x-python",
   "name": "python",
   "nbconvert_exporter": "python",
   "pygments_lexer": "ipython3",
   "version": "3.7.3"
  }
 },
 "nbformat": 4,
 "nbformat_minor": 4
}
