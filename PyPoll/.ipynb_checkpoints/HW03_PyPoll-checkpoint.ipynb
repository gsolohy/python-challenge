{
 "cells": [
  {
   "cell_type": "code",
   "execution_count": null,
   "metadata": {},
   "outputs": [],
   "source": [
    "import os\n",
    "import csv\n",
    "\n",
    "pathPyPoll = os.path.join(\"Resources\", \"election_data.csv\")\n",
    "voted_names = []\n",
    "candidate_list = []\n",
    "each_votes = []\n",
    "percent_votes = []\n",
    "\n",
    "def percent(part, whole): # Create Percentage calculator function\n",
    "    return round(((part/whole)*100), 3)\n",
    "\n",
    "with open(pathPyPoll, newline='') as filePyPoll:\n",
    "    PyPoll_reader = csv.reader(filePyPoll, delimiter=',')\n",
    "    PyPoll_header = next(PyPoll_reader)\n",
    "    \n",
    "    for row in PyPoll_reader:\n",
    "        voted_names.append(row[2]) # Create list of voted candidates for loops\n",
    "        total_votes = len(voted_names) # Find total number of votes cast\n",
    "#Total Votes: 3521001 CHECKed\n",
    "\n",
    "    # Each unique candidate name\n",
    "    for name in voted_names: # Name checker to create unique candidate list\n",
    "        if name not in candidate_list:\n",
    "            candidate_list.append(name)\n",
    "#['Khan', 'Correy', 'Li', \"O'Tooley\"] CHECKed\n",
    "\n",
    "    # Votes per candidate\n",
    "    for i in range(len(candidate_list)): # For each candidate:\n",
    "        if candidate_list[i] in voted_names: # Count the matching name\n",
    "            each_votes.append(voted_names.count(candidate_list[i])) # Make vote list\n",
    "#[2218231, 704200, 492940, 105630] CHECKed\n",
    "\n",
    "    # % of votes\n",
    "    for j in range(len(each_votes)): # For each candidate's votes\n",
    "        percent_votes.append(percent(each_votes[j],total_votes)) # Make % list using '% calc'\n",
    "#[63.0, 20.0, 14.0, 3.0] CHECKed\n",
    "\n",
    "    # Find winner\n",
    "    winner = candidate_list[percent_votes.index(max(percent_votes))]\n",
    "#Khan CHECKed\n",
    "\n",
    "PyPoll_export = 'Election Results.txt' # Export as txt\n",
    "\n",
    "with open(PyPoll_export, 'w') as export_text:\n",
    "    export_text.write(\"Election Results\\n\")\n",
    "    export_text.write(\"-\"*30 + \"\\n\")\n",
    "    export_text.write(f\"Total Votes: {total_votes}\\n\")\n",
    "    export_text.write(\"-\"*30 + \"\\n\")\n",
    "    for k in range(len(candidate_list)):\n",
    "        export_text.write(f\"{candidate_list[k]}: {percent_votes[k]}% ({each_votes[k]}) \\n\")\n",
    "    export_text.write(\"-\"*30 + \"\\n\")\n",
    "    export_text.write(f\"Winner: {winner} \\n\")\n",
    "    export_text.write(\"-\"*30)"
   ]
  },
  {
   "cell_type": "code",
   "execution_count": null,
   "metadata": {},
   "outputs": [],
   "source": []
  },
  {
   "cell_type": "code",
   "execution_count": null,
   "metadata": {},
   "outputs": [],
   "source": []
  }
 ],
 "metadata": {
  "kernelspec": {
   "display_name": "Python 3",
   "language": "python",
   "name": "python3"
  },
  "language_info": {
   "codemirror_mode": {
    "name": "ipython",
    "version": 3
   },
   "file_extension": ".py",
   "mimetype": "text/x-python",
   "name": "python",
   "nbconvert_exporter": "python",
   "pygments_lexer": "ipython3",
   "version": "3.7.3"
  }
 },
 "nbformat": 4,
 "nbformat_minor": 4
}
